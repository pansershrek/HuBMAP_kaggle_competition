{
 "cells": [
  {
   "cell_type": "code",
   "execution_count": 1,
   "id": "e03b5b01",
   "metadata": {
    "execution": {
     "iopub.execute_input": "2022-07-23T01:14:36.587889Z",
     "iopub.status.busy": "2022-07-23T01:14:36.587455Z",
     "iopub.status.idle": "2022-07-23T01:14:36.593697Z",
     "shell.execute_reply": "2022-07-23T01:14:36.592699Z"
    },
    "papermill": {
     "duration": 0.020327,
     "end_time": "2022-07-23T01:14:36.596063",
     "exception": false,
     "start_time": "2022-07-23T01:14:36.575736",
     "status": "completed"
    },
    "tags": []
   },
   "outputs": [],
   "source": [
    "#pip install    --no-index --find-links ../input/sourcelib segmentation_models_pytorch"
   ]
  },
  {
   "cell_type": "code",
   "execution_count": 2,
   "id": "0e6f091e",
   "metadata": {
    "execution": {
     "iopub.execute_input": "2022-07-23T01:14:36.616030Z",
     "iopub.status.busy": "2022-07-23T01:14:36.615222Z",
     "iopub.status.idle": "2022-07-23T01:14:36.619334Z",
     "shell.execute_reply": "2022-07-23T01:14:36.618527Z"
    },
    "papermill": {
     "duration": 0.016077,
     "end_time": "2022-07-23T01:14:36.621182",
     "exception": false,
     "start_time": "2022-07-23T01:14:36.605105",
     "status": "completed"
    },
    "tags": []
   },
   "outputs": [],
   "source": [
    "#! ls -la ../input/source"
   ]
  },
  {
   "cell_type": "code",
   "execution_count": 3,
   "id": "ebbe15a1",
   "metadata": {
    "execution": {
     "iopub.execute_input": "2022-07-23T01:14:36.640412Z",
     "iopub.status.busy": "2022-07-23T01:14:36.640172Z",
     "iopub.status.idle": "2022-07-23T01:14:36.643842Z",
     "shell.execute_reply": "2022-07-23T01:14:36.642961Z"
    },
    "papermill": {
     "duration": 0.015518,
     "end_time": "2022-07-23T01:14:36.645801",
     "exception": false,
     "start_time": "2022-07-23T01:14:36.630283",
     "status": "completed"
    },
    "tags": []
   },
   "outputs": [],
   "source": [
    "#!pip wheel mypackage -w ../input/source --no-deps"
   ]
  },
  {
   "cell_type": "code",
   "execution_count": 4,
   "id": "333894ed",
   "metadata": {
    "execution": {
     "iopub.execute_input": "2022-07-23T01:14:36.665045Z",
     "iopub.status.busy": "2022-07-23T01:14:36.664792Z",
     "iopub.status.idle": "2022-07-23T01:14:48.394893Z",
     "shell.execute_reply": "2022-07-23T01:14:48.393786Z"
    },
    "papermill": {
     "duration": 11.742208,
     "end_time": "2022-07-23T01:14:48.397369",
     "exception": false,
     "start_time": "2022-07-23T01:14:36.655161",
     "status": "completed"
    },
    "tags": []
   },
   "outputs": [],
   "source": [
    "#!pip install --no-index --find-links=\"../input/source\" segmentation_models_pytorch"
   ]
  },
  {
   "cell_type": "code",
   "execution_count": 5,
   "id": "81058117",
   "metadata": {
    "execution": {
     "iopub.execute_input": "2022-07-23T01:14:48.419823Z",
     "iopub.status.busy": "2022-07-23T01:14:48.419510Z",
     "iopub.status.idle": "2022-07-23T01:14:53.684907Z",
     "shell.execute_reply": "2022-07-23T01:14:53.683805Z"
    },
    "papermill": {
     "duration": 5.279078,
     "end_time": "2022-07-23T01:14:53.687350",
     "exception": false,
     "start_time": "2022-07-23T01:14:48.408272",
     "status": "completed"
    },
    "tags": []
   },
   "outputs": [],
   "source": [
    "import os\n",
    "import random\n",
    "import math\n",
    "\n",
    "import pandas as pd\n",
    "import numpy as np\n",
    "import torch\n",
    "from torch.utils.data import Dataset, DataLoader\n",
    "from scipy.ndimage import zoom\n",
    "from torchvision import transforms\n",
    "from torch.utils.data import random_split\n",
    "import matplotlib.pyplot as plt\n",
    "import tifffile as tiff\n",
    "import torch.nn as nn\n",
    "from scipy import ndimage\n",
    "from PIL import Image\n",
    "from skimage import transform\n",
    "from sklearn.model_selection import train_test_split\n",
    "import segmentation_models_pytorch as smp\n",
    "from torch.optim.lr_scheduler import StepLR\n",
    "import lovasz_losses as L\n",
    "from torch.nn.functional import interpolate\n",
    "import cv2"
   ]
  },
  {
   "cell_type": "code",
   "execution_count": 6,
   "id": "970baa5d",
   "metadata": {
    "execution": {
     "iopub.execute_input": "2022-07-23T01:14:53.709691Z",
     "iopub.status.busy": "2022-07-23T01:14:53.709019Z",
     "iopub.status.idle": "2022-07-23T01:14:53.776622Z",
     "shell.execute_reply": "2022-07-23T01:14:53.775718Z"
    },
    "papermill": {
     "duration": 0.081381,
     "end_time": "2022-07-23T01:14:53.778782",
     "exception": false,
     "start_time": "2022-07-23T01:14:53.697401",
     "status": "completed"
    },
    "tags": []
   },
   "outputs": [],
   "source": [
    "class config:\n",
    "    seed = 1717\n",
    "    #base_path = \"../input/hubmap-organ-segmentation\" #UNCOMMIT FOR KAGGLE\n",
    "    base_path = \"./hubmap-organ-segmentation\"\n",
    "    batch_size = 16\n",
    "    \n",
    "    val_size = 0.25\n",
    "    \n",
    "    epoch = 5\n",
    "    lr = 3e-3\n",
    "    device = \"cuda\" if torch.cuda.is_available() else \"cpu\"\n",
    "    \n",
    "    rescaling_factor = 3\n",
    "    \n",
    "    crop_size = 256\n",
    "    crop_amount = 8\n",
    "    base_size = 512\n",
    "    \n",
    "    \n",
    "    train_metadata = os.path.join(base_path, \"train.csv\")\n",
    "    test_metadata = os.path.join(base_path, \"test.csv\")\n",
    "    train_images = os.path.join(base_path, \"train_images\")\n",
    "    test_images = os.path.join(base_path, \"test_images\")\n",
    "    \n",
    "    model_path = \"model4\"\n",
    "    \n",
    "    random.seed(seed)\n",
    "    torch.manual_seed(seed)\n",
    "    "
   ]
  },
  {
   "cell_type": "code",
   "execution_count": null,
   "id": "422e7cdf",
   "metadata": {
    "papermill": {
     "duration": 0.009365,
     "end_time": "2022-07-23T01:14:53.798061",
     "exception": false,
     "start_time": "2022-07-23T01:14:53.788696",
     "status": "completed"
    },
    "tags": []
   },
   "outputs": [],
   "source": []
  },
  {
   "cell_type": "code",
   "execution_count": 7,
   "id": "87218f4b",
   "metadata": {
    "execution": {
     "iopub.execute_input": "2022-07-23T01:14:53.819128Z",
     "iopub.status.busy": "2022-07-23T01:14:53.818142Z",
     "iopub.status.idle": "2022-07-23T01:14:53.828251Z",
     "shell.execute_reply": "2022-07-23T01:14:53.827329Z"
    },
    "papermill": {
     "duration": 0.022683,
     "end_time": "2022-07-23T01:14:53.830235",
     "exception": false,
     "start_time": "2022-07-23T01:14:53.807552",
     "status": "completed"
    },
    "tags": []
   },
   "outputs": [],
   "source": [
    "# https://www.kaggle.com/paulorzp/rle-functions-run-length-encode-decode\n",
    "def mask2rle(img):\n",
    "    '''\n",
    "    img: numpy array, 1 - mask, 0 - background\n",
    "    Returns run length as string formated\n",
    "    '''\n",
    "    pixels= img.T.flatten()\n",
    "    pixels = np.concatenate([[0], pixels, [0]])\n",
    "    runs = np.where(pixels[1:] != pixels[:-1])[0] + 1\n",
    "    runs[1::2] -= runs[::2]\n",
    "    return ' '.join(str(x) for x in runs)\n",
    " \n",
    "def rle2mask(mask_rle, shape=(1600,256)):\n",
    "    '''\n",
    "    mask_rle: run-length as string formated (start length)\n",
    "    shape: (width,height) of array to return \n",
    "    Returns numpy array, 1 - mask, 0 - background\n",
    "\n",
    "    '''\n",
    "    s = mask_rle.split()\n",
    "    starts, lengths = [np.asarray(x, dtype=int) for x in (s[0:][::2], s[1:][::2])]\n",
    "    starts -= 1\n",
    "    ends = starts + lengths\n",
    "    img = np.zeros(shape[0]*shape[1], dtype=np.uint8)\n",
    "    for lo, hi in zip(starts, ends):\n",
    "        img[lo:hi] = 1\n",
    "    return img.reshape(shape).T"
   ]
  },
  {
   "cell_type": "code",
   "execution_count": 8,
   "id": "f20a859b",
   "metadata": {
    "execution": {
     "iopub.execute_input": "2022-07-23T01:14:53.849955Z",
     "iopub.status.busy": "2022-07-23T01:14:53.849670Z",
     "iopub.status.idle": "2022-07-23T01:14:53.859388Z",
     "shell.execute_reply": "2022-07-23T01:14:53.858462Z"
    },
    "papermill": {
     "duration": 0.022195,
     "end_time": "2022-07-23T01:14:53.861601",
     "exception": false,
     "start_time": "2022-07-23T01:14:53.839406",
     "status": "completed"
    },
    "tags": []
   },
   "outputs": [],
   "source": [
    "class RandomCrop(object):\n",
    "    def __init__(self, output_size):\n",
    "        assert isinstance(output_size, (int, tuple))\n",
    "        if isinstance(output_size, int):\n",
    "            self.output_size = (output_size, output_size)\n",
    "        else:\n",
    "            assert len(output_size) == 2\n",
    "            self.output_size = output_size\n",
    "\n",
    "    def __call__(self, data):\n",
    "        image, mask = data[\"image\"], data[\"mask\"]\n",
    "        \n",
    "        h, w = image.shape[1:]\n",
    "        new_h, new_w = self.output_size\n",
    "\n",
    "        top = np.random.randint(0, h - new_h)\n",
    "        left = np.random.randint(0, w - new_w)\n",
    "\n",
    "        image = image[:, top: top + new_h,\n",
    "                      left: left + new_w]\n",
    "        mask = mask[:, top: top + new_h,\n",
    "                      left: left + new_w]\n",
    "\n",
    "        return {\"image\": image, \"mask\": mask}"
   ]
  },
  {
   "cell_type": "code",
   "execution_count": 9,
   "id": "95086f4e",
   "metadata": {
    "execution": {
     "iopub.execute_input": "2022-07-23T01:14:53.882706Z",
     "iopub.status.busy": "2022-07-23T01:14:53.881375Z",
     "iopub.status.idle": "2022-07-23T01:14:53.905179Z",
     "shell.execute_reply": "2022-07-23T01:14:53.904355Z"
    },
    "papermill": {
     "duration": 0.036278,
     "end_time": "2022-07-23T01:14:53.907159",
     "exception": false,
     "start_time": "2022-07-23T01:14:53.870881",
     "status": "completed"
    },
    "tags": []
   },
   "outputs": [],
   "source": [
    "class BaselineDataset(Dataset):\n",
    "    def __init__(\n",
    "        self, root_dir, metadata,\n",
    "        image_transforms=None, mask_transforms=None,\n",
    "        rescaling_factor = config.rescaling_factor,\n",
    "        crop_size = 1, crop_amount = 1, val = False,\n",
    "        base_zie = config.base_size\n",
    "    ):\n",
    "        self.root_dir = root_dir\n",
    "        self.image_transforms = image_transforms\n",
    "        self.mask_transforms = mask_transforms\n",
    "        self.crop = RandomCrop(crop_size)\n",
    "        self.crop_amount = crop_amount\n",
    "        self.val = val\n",
    "        self.base_zie = base_zie\n",
    "        self.new_voxel_spacing = np.array(\n",
    "            [\n",
    "                3,\n",
    "                0.171 * rescaling_factor,\n",
    "                0.171 * rescaling_factor\n",
    "            ]\n",
    "        )\n",
    "        cur_ids = set(metadata[\"id\"])\n",
    "        files = [\n",
    "            x for x in os.listdir(self.root_dir) if int(\n",
    "                x.split(\".\")[0]\n",
    "            ) in cur_ids\n",
    "        ]\n",
    "        self.idx2name = {\n",
    "            x: os.path.join(self.root_dir, y)\n",
    "            for x, y in enumerate(files)\n",
    "        }\n",
    "\n",
    "        self.name2idx = {\n",
    "            int(y.split(\".\")[-2].split(\"/\")[-1]): x\n",
    "            for x, y in self.idx2name.items()\n",
    "        }\n",
    "        \n",
    "        self.idx2meta = {\n",
    "            self.name2idx[x[1][\"id\"]]: {\n",
    "                \"mask\": None,\n",
    "                \"pixel_size\": x[1][\"pixel_size\"],\n",
    "                \"tissue_thickness\": x[1][\"tissue_thickness\"],\n",
    "                \"id\": x[1][\"id\"],\n",
    "                \"img_width\": x[1][\"img_width\"],\n",
    "                \"img_height\": x[1][\"img_height\"],\n",
    "            }\n",
    "            for x in metadata.iterrows()\n",
    "        }\n",
    "        for x in metadata.iterrows():\n",
    "            if x[1].get(\"rle\") is not None:\n",
    "                self.idx2meta[self.name2idx[x[1][\"id\"]]][\"mask\"] = rle2mask(\n",
    "                    x[1][\"rle\"],\n",
    "                    (x[1][\"img_width\"], x[1][\"img_height\"])\n",
    "                )\n",
    "    \n",
    "    def get_voxel_size(self, idx):\n",
    "        image = load(self.idx2name[idx])\n",
    "        return np.array(image[1].get_voxel_spacing())\n",
    "    \n",
    "    def zoom(self, data, zoom_scale):\n",
    "        image, mask = data['image'], data['mask']\n",
    "\n",
    "        h, w = image.shape[:2]\n",
    "        h *= zoom_scale\n",
    "        w *= zoom_scale\n",
    "        h = int(h)\n",
    "        w = int(w)\n",
    "        h = int(2 ** round(math.log(h, 2) - 2))\n",
    "        w = int(2 ** round(math.log(w, 2) - 2))\n",
    "        h = self.base_zie\n",
    "        w = self.base_zie\n",
    "        img = transform.resize(image, (h, w))\n",
    "        if mask is not None:\n",
    "            mask = transform.resize(mask, (h, w))\n",
    "        mask[mask != 0] = 1\n",
    "        #a = plt.imshow(img)\n",
    "        #plt.show()\n",
    "        #b = plt.imshow(mask)\n",
    "        #plt.show()\n",
    "        return {'image': img, 'mask': mask}\n",
    "    \n",
    "    def to_image(self, data):\n",
    "        ans =  {\n",
    "            'image': Image.fromarray((data['image'] * 255).astype(np.uint8)),\n",
    "            'mask': None\n",
    "        }\n",
    "        if data[\"mask\"] is not None:\n",
    "            ans[\"mask\"] = Image.fromarray((data['mask'] * 255).astype(np.uint8))\n",
    "        return ans\n",
    "    \n",
    "    def __len__(self):\n",
    "        return len(self.idx2name)\n",
    "        #return len(self.idx2name) * self.crop_amount if not self.val else len(self.idx2name)\n",
    "    \n",
    "    def __getitem__(self, idx_):\n",
    "        idx = idx_ // self.crop_amount\n",
    "        image = tiff.imread(self.idx2name[idx])\n",
    "        mask = self.idx2meta[idx][\"mask\"]\n",
    "\n",
    "        #TODO Use pixel_size and tissue_thickness here\n",
    "        ans = {\"image\": image, \"mask\": mask}\n",
    "        ans = self.zoom(ans, self.idx2meta[idx][\"pixel_size\"])\n",
    "        ans = self.to_image(ans)\n",
    "   \n",
    "        if self.image_transforms:\n",
    "            ans[\"image\"] = self.image_transforms(ans[\"image\"])\n",
    "        if self.mask_transforms and ans[\"mask\"] is not None:\n",
    "            ans[\"mask\"] = self.mask_transforms(ans[\"mask\"])\n",
    "        else:\n",
    "            ans[\"mask\"] = 0\n",
    "        ##aa = torch.permute(ans[\"image\"] , (1, 2, 0))\n",
    "        #aa = ans[\"image\"]\n",
    "        #bb = ans[\"mask\"]\n",
    "        #aa = torch.permute(aa, (1, 2, 0))\n",
    "        #bb = torch.permute(bb, (1, 2, 0))\n",
    "        \n",
    "        #cc = transform.resize(bb , (256, 256))\n",
    "        #cc[cc != 0] = 1\n",
    "        #a = plt.imshow(aa)\n",
    "        #plt.show()\n",
    "        #b = plt.imshow(bb)\n",
    "        #plt.show()\n",
    "        #b = plt.imshow(cc)\n",
    "        #plt.show()\n",
    "        ans[\"id\"] = self.idx2meta[idx][\"id\"]\n",
    "        ans[\"img_width\"] = self.idx2meta[idx][\"img_width\"]\n",
    "        ans[\"img_height\"] = self.idx2meta[idx][\"img_height\"]\n",
    "        return ans"
   ]
  },
  {
   "cell_type": "code",
   "execution_count": null,
   "id": "fd7a523f",
   "metadata": {
    "papermill": {
     "duration": 0.00946,
     "end_time": "2022-07-23T01:14:53.925904",
     "exception": false,
     "start_time": "2022-07-23T01:14:53.916444",
     "status": "completed"
    },
    "tags": []
   },
   "outputs": [],
   "source": []
  },
  {
   "cell_type": "code",
   "execution_count": 10,
   "id": "90ccb2fa",
   "metadata": {},
   "outputs": [
    {
     "name": "stdout",
     "output_type": "stream",
     "text": [
      "[1 2 3]\n"
     ]
    }
   ],
   "source": [
    "a = np.array([1,2,3])\n",
    "print(a[a > 0])"
   ]
  },
  {
   "cell_type": "code",
   "execution_count": 11,
   "id": "66ba39f9",
   "metadata": {
    "execution": {
     "iopub.execute_input": "2022-07-23T01:14:53.945869Z",
     "iopub.status.busy": "2022-07-23T01:14:53.945619Z",
     "iopub.status.idle": "2022-07-23T01:14:53.951350Z",
     "shell.execute_reply": "2022-07-23T01:14:53.950378Z"
    },
    "papermill": {
     "duration": 0.018162,
     "end_time": "2022-07-23T01:14:53.953376",
     "exception": false,
     "start_time": "2022-07-23T01:14:53.935214",
     "status": "completed"
    },
    "tags": []
   },
   "outputs": [],
   "source": [
    "class BaselineModel(nn.Module):\n",
    "    def __init__(self):\n",
    "        super().__init__()\n",
    "        self.backbone = smp.UnetPlusPlus(\"efficientnet-b4\", classes=1, in_channels=3)\n",
    "    \n",
    "    def forward(self, x):\n",
    "        ans = self.backbone(x)\n",
    "        return torch.sigmoid(ans)"
   ]
  },
  {
   "cell_type": "code",
   "execution_count": null,
   "id": "0a0dbceb",
   "metadata": {
    "papermill": {
     "duration": 0.009185,
     "end_time": "2022-07-23T01:14:53.971938",
     "exception": false,
     "start_time": "2022-07-23T01:14:53.962753",
     "status": "completed"
    },
    "tags": []
   },
   "outputs": [],
   "source": []
  },
  {
   "cell_type": "code",
   "execution_count": 12,
   "id": "edc3b907",
   "metadata": {
    "execution": {
     "iopub.execute_input": "2022-07-23T01:14:53.991869Z",
     "iopub.status.busy": "2022-07-23T01:14:53.991621Z",
     "iopub.status.idle": "2022-07-23T01:14:53.997287Z",
     "shell.execute_reply": "2022-07-23T01:14:53.996352Z"
    },
    "papermill": {
     "duration": 0.017968,
     "end_time": "2022-07-23T01:14:53.999259",
     "exception": false,
     "start_time": "2022-07-23T01:14:53.981291",
     "status": "completed"
    },
    "tags": []
   },
   "outputs": [],
   "source": [
    "def dice_loss(logit, target):\n",
    "    #pred = torch.sigmoid(logit)\n",
    "    pred = logit\n",
    "    \n",
    "    sum_dims = list(range(1, target.dim()))\n",
    "    dice = 2 * torch.sum(pred * target, dim = sum_dims) / torch.sum(pred ** 2 + target ** 2, dim = sum_dims)\n",
    "    loss = 1 - dice\n",
    "    return loss.mean()"
   ]
  },
  {
   "cell_type": "code",
   "execution_count": 13,
   "id": "a7fac60d",
   "metadata": {
    "papermill": {
     "duration": 0.009282,
     "end_time": "2022-07-23T01:14:54.017980",
     "exception": false,
     "start_time": "2022-07-23T01:14:54.008698",
     "status": "completed"
    },
    "tags": []
   },
   "outputs": [],
   "source": [
    "def symmetric_lovasz(outputs, targets):\n",
    "    return 0.5*(L.lovasz_hinge(outputs, targets) + L.lovasz_hinge(-outputs, 1.0 - targets))"
   ]
  },
  {
   "cell_type": "code",
   "execution_count": 14,
   "id": "f42f3123",
   "metadata": {},
   "outputs": [],
   "source": [
    "def final_loss(outputs, targets):\n",
    "    return dice_loss(outputs, targets) + symmetric_lovasz(outputs, targets)"
   ]
  },
  {
   "cell_type": "code",
   "execution_count": null,
   "id": "18e634ab",
   "metadata": {},
   "outputs": [],
   "source": []
  },
  {
   "cell_type": "code",
   "execution_count": 15,
   "id": "72870201",
   "metadata": {
    "execution": {
     "iopub.execute_input": "2022-07-23T01:14:54.037936Z",
     "iopub.status.busy": "2022-07-23T01:14:54.037414Z",
     "iopub.status.idle": "2022-07-23T01:14:54.398110Z",
     "shell.execute_reply": "2022-07-23T01:14:54.397091Z"
    },
    "papermill": {
     "duration": 0.373239,
     "end_time": "2022-07-23T01:14:54.400513",
     "exception": false,
     "start_time": "2022-07-23T01:14:54.027274",
     "status": "completed"
    },
    "tags": []
   },
   "outputs": [
    {
     "data": {
      "text/html": [
       "<div>\n",
       "<style scoped>\n",
       "    .dataframe tbody tr th:only-of-type {\n",
       "        vertical-align: middle;\n",
       "    }\n",
       "\n",
       "    .dataframe tbody tr th {\n",
       "        vertical-align: top;\n",
       "    }\n",
       "\n",
       "    .dataframe thead th {\n",
       "        text-align: right;\n",
       "    }\n",
       "</style>\n",
       "<table border=\"1\" class=\"dataframe\">\n",
       "  <thead>\n",
       "    <tr style=\"text-align: right;\">\n",
       "      <th></th>\n",
       "      <th>id</th>\n",
       "      <th>organ</th>\n",
       "      <th>data_source</th>\n",
       "      <th>img_height</th>\n",
       "      <th>img_width</th>\n",
       "      <th>pixel_size</th>\n",
       "      <th>tissue_thickness</th>\n",
       "      <th>rle</th>\n",
       "      <th>age</th>\n",
       "      <th>sex</th>\n",
       "    </tr>\n",
       "  </thead>\n",
       "  <tbody>\n",
       "    <tr>\n",
       "      <th>0</th>\n",
       "      <td>32231</td>\n",
       "      <td>spleen</td>\n",
       "      <td>HPA</td>\n",
       "      <td>3000</td>\n",
       "      <td>3000</td>\n",
       "      <td>0.4</td>\n",
       "      <td>4</td>\n",
       "      <td>1399958 26 1402957 29 1405956 32 1408947 48 14...</td>\n",
       "      <td>72.0</td>\n",
       "      <td>Male</td>\n",
       "    </tr>\n",
       "    <tr>\n",
       "      <th>1</th>\n",
       "      <td>27471</td>\n",
       "      <td>prostate</td>\n",
       "      <td>HPA</td>\n",
       "      <td>3000</td>\n",
       "      <td>3000</td>\n",
       "      <td>0.4</td>\n",
       "      <td>4</td>\n",
       "      <td>1105636 28 1105755 13 1108635 30 1108754 16 11...</td>\n",
       "      <td>76.0</td>\n",
       "      <td>Male</td>\n",
       "    </tr>\n",
       "    <tr>\n",
       "      <th>2</th>\n",
       "      <td>5086</td>\n",
       "      <td>lung</td>\n",
       "      <td>HPA</td>\n",
       "      <td>3000</td>\n",
       "      <td>3000</td>\n",
       "      <td>0.4</td>\n",
       "      <td>4</td>\n",
       "      <td>1510934 32 1513930 36 1516928 38 1519926 40 15...</td>\n",
       "      <td>65.0</td>\n",
       "      <td>Male</td>\n",
       "    </tr>\n",
       "    <tr>\n",
       "      <th>3</th>\n",
       "      <td>8343</td>\n",
       "      <td>lung</td>\n",
       "      <td>HPA</td>\n",
       "      <td>3000</td>\n",
       "      <td>3000</td>\n",
       "      <td>0.4</td>\n",
       "      <td>4</td>\n",
       "      <td>2170394 3 2173394 6 2176394 7 2179395 7 218239...</td>\n",
       "      <td>49.0</td>\n",
       "      <td>Female</td>\n",
       "    </tr>\n",
       "    <tr>\n",
       "      <th>4</th>\n",
       "      <td>25620</td>\n",
       "      <td>kidney</td>\n",
       "      <td>HPA</td>\n",
       "      <td>3000</td>\n",
       "      <td>3000</td>\n",
       "      <td>0.4</td>\n",
       "      <td>4</td>\n",
       "      <td>2062029 24 2065028 27 2068024 36 2071022 41 20...</td>\n",
       "      <td>28.0</td>\n",
       "      <td>Male</td>\n",
       "    </tr>\n",
       "  </tbody>\n",
       "</table>\n",
       "</div>"
      ],
      "text/plain": [
       "      id     organ data_source  img_height  img_width  pixel_size  \\\n",
       "0  32231    spleen         HPA        3000       3000         0.4   \n",
       "1  27471  prostate         HPA        3000       3000         0.4   \n",
       "2   5086      lung         HPA        3000       3000         0.4   \n",
       "3   8343      lung         HPA        3000       3000         0.4   \n",
       "4  25620    kidney         HPA        3000       3000         0.4   \n",
       "\n",
       "   tissue_thickness                                                rle   age  \\\n",
       "0                 4  1399958 26 1402957 29 1405956 32 1408947 48 14...  72.0   \n",
       "1                 4  1105636 28 1105755 13 1108635 30 1108754 16 11...  76.0   \n",
       "2                 4  1510934 32 1513930 36 1516928 38 1519926 40 15...  65.0   \n",
       "3                 4  2170394 3 2173394 6 2176394 7 2179395 7 218239...  49.0   \n",
       "4                 4  2062029 24 2065028 27 2068024 36 2071022 41 20...  28.0   \n",
       "\n",
       "      sex  \n",
       "0    Male  \n",
       "1    Male  \n",
       "2    Male  \n",
       "3  Female  \n",
       "4    Male  "
      ]
     },
     "execution_count": 15,
     "metadata": {},
     "output_type": "execute_result"
    }
   ],
   "source": [
    "df_train_source = pd.read_csv(config.train_metadata)\n",
    "df_train = df_train_source.sample(frac=1, random_state=config.seed).reset_index(drop=True)[:300]\n",
    "df_val = df_train_source.sample(frac=1, random_state=config.seed).reset_index(drop=True)[300:]\n",
    "\n",
    "df_test = pd.read_csv(config.test_metadata)\n",
    "df_train.head()"
   ]
  },
  {
   "cell_type": "code",
   "execution_count": 16,
   "id": "b35a0896",
   "metadata": {
    "execution": {
     "iopub.execute_input": "2022-07-23T01:14:54.421845Z",
     "iopub.status.busy": "2022-07-23T01:14:54.421562Z",
     "iopub.status.idle": "2022-07-23T01:14:54.446908Z",
     "shell.execute_reply": "2022-07-23T01:14:54.445878Z"
    },
    "papermill": {
     "duration": 0.038272,
     "end_time": "2022-07-23T01:14:54.449101",
     "exception": false,
     "start_time": "2022-07-23T01:14:54.410829",
     "status": "completed"
    },
    "tags": []
   },
   "outputs": [
    {
     "data": {
      "text/html": [
       "<div>\n",
       "<style scoped>\n",
       "    .dataframe tbody tr th:only-of-type {\n",
       "        vertical-align: middle;\n",
       "    }\n",
       "\n",
       "    .dataframe tbody tr th {\n",
       "        vertical-align: top;\n",
       "    }\n",
       "\n",
       "    .dataframe thead th {\n",
       "        text-align: right;\n",
       "    }\n",
       "</style>\n",
       "<table border=\"1\" class=\"dataframe\">\n",
       "  <thead>\n",
       "    <tr style=\"text-align: right;\">\n",
       "      <th></th>\n",
       "      <th>id</th>\n",
       "      <th>organ</th>\n",
       "      <th>data_source</th>\n",
       "      <th>img_height</th>\n",
       "      <th>img_width</th>\n",
       "      <th>pixel_size</th>\n",
       "      <th>tissue_thickness</th>\n",
       "      <th>rle</th>\n",
       "      <th>age</th>\n",
       "      <th>sex</th>\n",
       "    </tr>\n",
       "  </thead>\n",
       "  <tbody>\n",
       "    <tr>\n",
       "      <th>0</th>\n",
       "      <td>10044</td>\n",
       "      <td>prostate</td>\n",
       "      <td>HPA</td>\n",
       "      <td>3000</td>\n",
       "      <td>3000</td>\n",
       "      <td>0.4</td>\n",
       "      <td>4</td>\n",
       "      <td>1459676 77 1462675 82 1465674 87 1468673 92 14...</td>\n",
       "      <td>37.0</td>\n",
       "      <td>Male</td>\n",
       "    </tr>\n",
       "    <tr>\n",
       "      <th>1</th>\n",
       "      <td>10274</td>\n",
       "      <td>prostate</td>\n",
       "      <td>HPA</td>\n",
       "      <td>3000</td>\n",
       "      <td>3000</td>\n",
       "      <td>0.4</td>\n",
       "      <td>4</td>\n",
       "      <td>715707 2 718705 8 721703 11 724701 18 727692 3...</td>\n",
       "      <td>76.0</td>\n",
       "      <td>Male</td>\n",
       "    </tr>\n",
       "    <tr>\n",
       "      <th>2</th>\n",
       "      <td>10392</td>\n",
       "      <td>spleen</td>\n",
       "      <td>HPA</td>\n",
       "      <td>3000</td>\n",
       "      <td>3000</td>\n",
       "      <td>0.4</td>\n",
       "      <td>4</td>\n",
       "      <td>1228631 20 1231629 24 1234624 40 1237623 47 12...</td>\n",
       "      <td>82.0</td>\n",
       "      <td>Male</td>\n",
       "    </tr>\n",
       "    <tr>\n",
       "      <th>3</th>\n",
       "      <td>10488</td>\n",
       "      <td>lung</td>\n",
       "      <td>HPA</td>\n",
       "      <td>3000</td>\n",
       "      <td>3000</td>\n",
       "      <td>0.4</td>\n",
       "      <td>4</td>\n",
       "      <td>3446519 15 3449517 17 3452514 20 3455510 24 34...</td>\n",
       "      <td>78.0</td>\n",
       "      <td>Male</td>\n",
       "    </tr>\n",
       "    <tr>\n",
       "      <th>4</th>\n",
       "      <td>10610</td>\n",
       "      <td>spleen</td>\n",
       "      <td>HPA</td>\n",
       "      <td>3000</td>\n",
       "      <td>3000</td>\n",
       "      <td>0.4</td>\n",
       "      <td>4</td>\n",
       "      <td>478925 68 481909 87 484893 105 487863 154 4908...</td>\n",
       "      <td>21.0</td>\n",
       "      <td>Female</td>\n",
       "    </tr>\n",
       "    <tr>\n",
       "      <th>...</th>\n",
       "      <td>...</td>\n",
       "      <td>...</td>\n",
       "      <td>...</td>\n",
       "      <td>...</td>\n",
       "      <td>...</td>\n",
       "      <td>...</td>\n",
       "      <td>...</td>\n",
       "      <td>...</td>\n",
       "      <td>...</td>\n",
       "      <td>...</td>\n",
       "    </tr>\n",
       "    <tr>\n",
       "      <th>346</th>\n",
       "      <td>9517</td>\n",
       "      <td>kidney</td>\n",
       "      <td>HPA</td>\n",
       "      <td>3000</td>\n",
       "      <td>3000</td>\n",
       "      <td>0.4</td>\n",
       "      <td>4</td>\n",
       "      <td>1611763 11 1614753 29 1617750 35 1620746 43 16...</td>\n",
       "      <td>61.0</td>\n",
       "      <td>Male</td>\n",
       "    </tr>\n",
       "    <tr>\n",
       "      <th>347</th>\n",
       "      <td>9769</td>\n",
       "      <td>kidney</td>\n",
       "      <td>HPA</td>\n",
       "      <td>3070</td>\n",
       "      <td>3070</td>\n",
       "      <td>0.4</td>\n",
       "      <td>4</td>\n",
       "      <td>4030400 28 4033466 34 4036526 48 4039594 54 40...</td>\n",
       "      <td>28.0</td>\n",
       "      <td>Male</td>\n",
       "    </tr>\n",
       "    <tr>\n",
       "      <th>348</th>\n",
       "      <td>9777</td>\n",
       "      <td>largeintestine</td>\n",
       "      <td>HPA</td>\n",
       "      <td>3000</td>\n",
       "      <td>3000</td>\n",
       "      <td>0.4</td>\n",
       "      <td>4</td>\n",
       "      <td>538473 13 541468 22 544463 30 547461 35 550459...</td>\n",
       "      <td>84.0</td>\n",
       "      <td>Male</td>\n",
       "    </tr>\n",
       "    <tr>\n",
       "      <th>349</th>\n",
       "      <td>9791</td>\n",
       "      <td>kidney</td>\n",
       "      <td>HPA</td>\n",
       "      <td>3000</td>\n",
       "      <td>3000</td>\n",
       "      <td>0.4</td>\n",
       "      <td>4</td>\n",
       "      <td>334733 33 337729 43 340729 43 343725 51 346723...</td>\n",
       "      <td>28.0</td>\n",
       "      <td>Male</td>\n",
       "    </tr>\n",
       "    <tr>\n",
       "      <th>350</th>\n",
       "      <td>9904</td>\n",
       "      <td>largeintestine</td>\n",
       "      <td>HPA</td>\n",
       "      <td>3000</td>\n",
       "      <td>3000</td>\n",
       "      <td>0.4</td>\n",
       "      <td>4</td>\n",
       "      <td>1009165 7 1012149 28 1015140 38 1018127 51 102...</td>\n",
       "      <td>84.0</td>\n",
       "      <td>Male</td>\n",
       "    </tr>\n",
       "  </tbody>\n",
       "</table>\n",
       "<p>351 rows × 10 columns</p>\n",
       "</div>"
      ],
      "text/plain": [
       "        id           organ data_source  img_height  img_width  pixel_size  \\\n",
       "0    10044        prostate         HPA        3000       3000         0.4   \n",
       "1    10274        prostate         HPA        3000       3000         0.4   \n",
       "2    10392          spleen         HPA        3000       3000         0.4   \n",
       "3    10488            lung         HPA        3000       3000         0.4   \n",
       "4    10610          spleen         HPA        3000       3000         0.4   \n",
       "..     ...             ...         ...         ...        ...         ...   \n",
       "346   9517          kidney         HPA        3000       3000         0.4   \n",
       "347   9769          kidney         HPA        3070       3070         0.4   \n",
       "348   9777  largeintestine         HPA        3000       3000         0.4   \n",
       "349   9791          kidney         HPA        3000       3000         0.4   \n",
       "350   9904  largeintestine         HPA        3000       3000         0.4   \n",
       "\n",
       "     tissue_thickness                                                rle  \\\n",
       "0                   4  1459676 77 1462675 82 1465674 87 1468673 92 14...   \n",
       "1                   4  715707 2 718705 8 721703 11 724701 18 727692 3...   \n",
       "2                   4  1228631 20 1231629 24 1234624 40 1237623 47 12...   \n",
       "3                   4  3446519 15 3449517 17 3452514 20 3455510 24 34...   \n",
       "4                   4  478925 68 481909 87 484893 105 487863 154 4908...   \n",
       "..                ...                                                ...   \n",
       "346                 4  1611763 11 1614753 29 1617750 35 1620746 43 16...   \n",
       "347                 4  4030400 28 4033466 34 4036526 48 4039594 54 40...   \n",
       "348                 4  538473 13 541468 22 544463 30 547461 35 550459...   \n",
       "349                 4  334733 33 337729 43 340729 43 343725 51 346723...   \n",
       "350                 4  1009165 7 1012149 28 1015140 38 1018127 51 102...   \n",
       "\n",
       "      age     sex  \n",
       "0    37.0    Male  \n",
       "1    76.0    Male  \n",
       "2    82.0    Male  \n",
       "3    78.0    Male  \n",
       "4    21.0  Female  \n",
       "..    ...     ...  \n",
       "346  61.0    Male  \n",
       "347  28.0    Male  \n",
       "348  84.0    Male  \n",
       "349  28.0    Male  \n",
       "350  84.0    Male  \n",
       "\n",
       "[351 rows x 10 columns]"
      ]
     },
     "execution_count": 16,
     "metadata": {},
     "output_type": "execute_result"
    }
   ],
   "source": [
    "df_train_source"
   ]
  },
  {
   "cell_type": "code",
   "execution_count": 17,
   "id": "2453e8cb",
   "metadata": {
    "execution": {
     "iopub.execute_input": "2022-07-23T01:14:54.470646Z",
     "iopub.status.busy": "2022-07-23T01:14:54.470366Z",
     "iopub.status.idle": "2022-07-23T01:14:54.475448Z",
     "shell.execute_reply": "2022-07-23T01:14:54.474548Z"
    },
    "papermill": {
     "duration": 0.018213,
     "end_time": "2022-07-23T01:14:54.477684",
     "exception": false,
     "start_time": "2022-07-23T01:14:54.459471",
     "status": "completed"
    },
    "tags": []
   },
   "outputs": [],
   "source": [
    "general_transforms = [\n",
    "    transforms.ToTensor(),\n",
    "]\n",
    "image_transforms = transforms.Compose(\n",
    "    general_transforms + [\n",
    "        transforms.Normalize(\n",
    "            mean=[0.485, 0.456, 0.406],\n",
    "            std=[0.229, 0.224, 0.225]\n",
    "        )\n",
    "    ]\n",
    ")\n",
    "mask_transforms = transforms.Compose(general_transforms)"
   ]
  },
  {
   "cell_type": "code",
   "execution_count": 18,
   "id": "86c5bc1d",
   "metadata": {
    "execution": {
     "iopub.execute_input": "2022-07-23T01:14:54.498549Z",
     "iopub.status.busy": "2022-07-23T01:14:54.498259Z",
     "iopub.status.idle": "2022-07-23T01:14:57.182443Z",
     "shell.execute_reply": "2022-07-23T01:14:57.181518Z"
    },
    "papermill": {
     "duration": 2.697135,
     "end_time": "2022-07-23T01:14:57.184741",
     "exception": false,
     "start_time": "2022-07-23T01:14:54.487606",
     "status": "completed"
    },
    "tags": []
   },
   "outputs": [],
   "source": [
    "train_dataset = BaselineDataset(\n",
    "    config.train_images, df_train,\n",
    "    image_transforms = image_transforms,\n",
    "    mask_transforms = mask_transforms,\n",
    "    crop_size = config.crop_size,\n",
    "    crop_amount = config.crop_amount,\n",
    "    val = False\n",
    ")\n",
    "val_dataset = BaselineDataset(\n",
    "    config.train_images, df_val,\n",
    "    image_transforms = image_transforms,\n",
    "    mask_transforms = mask_transforms,\n",
    "    val = True\n",
    ")\n",
    "test_dataset = BaselineDataset(\n",
    "    config.test_images, df_test,\n",
    "    image_transforms = image_transforms,\n",
    "    mask_transforms = mask_transforms,\n",
    "    val = True\n",
    ")"
   ]
  },
  {
   "cell_type": "code",
   "execution_count": 19,
   "id": "1ab4369c",
   "metadata": {
    "execution": {
     "iopub.execute_input": "2022-07-23T01:14:57.207327Z",
     "iopub.status.busy": "2022-07-23T01:14:57.207039Z",
     "iopub.status.idle": "2022-07-23T01:14:57.212326Z",
     "shell.execute_reply": "2022-07-23T01:14:57.211349Z"
    },
    "papermill": {
     "duration": 0.018663,
     "end_time": "2022-07-23T01:14:57.214208",
     "exception": false,
     "start_time": "2022-07-23T01:14:57.195545",
     "status": "completed"
    },
    "tags": []
   },
   "outputs": [],
   "source": [
    "train_dataloader = DataLoader(\n",
    "    train_dataset, batch_size=config.batch_size,\n",
    "    shuffle=True\n",
    ")\n",
    "val_dataloader = DataLoader(\n",
    "    val_dataset, batch_size=1,\n",
    "    shuffle=True\n",
    ")\n",
    "test_dataloader = DataLoader(\n",
    "    test_dataset, batch_size=1,\n",
    "    shuffle=False\n",
    ")"
   ]
  },
  {
   "cell_type": "code",
   "execution_count": null,
   "id": "20b9ba88",
   "metadata": {
    "papermill": {
     "duration": 0.01003,
     "end_time": "2022-07-23T01:14:57.234321",
     "exception": false,
     "start_time": "2022-07-23T01:14:57.224291",
     "status": "completed"
    },
    "tags": []
   },
   "outputs": [],
   "source": []
  },
  {
   "cell_type": "code",
   "execution_count": null,
   "id": "aeaa97a4",
   "metadata": {},
   "outputs": [],
   "source": []
  },
  {
   "cell_type": "code",
   "execution_count": 20,
   "id": "c2c73b57",
   "metadata": {
    "execution": {
     "iopub.execute_input": "2022-07-23T01:14:57.257607Z",
     "iopub.status.busy": "2022-07-23T01:14:57.257135Z",
     "iopub.status.idle": "2022-07-23T01:14:57.261122Z",
     "shell.execute_reply": "2022-07-23T01:14:57.260167Z"
    },
    "papermill": {
     "duration": 0.016827,
     "end_time": "2022-07-23T01:14:57.263085",
     "exception": false,
     "start_time": "2022-07-23T01:14:57.246258",
     "status": "completed"
    },
    "tags": []
   },
   "outputs": [],
   "source": [
    "model = BaselineModel()\n",
    "model = model.to(config.device)\n",
    "\n",
    "optimizer = torch.optim.Adam(\n",
    "    model.parameters(),\n",
    "    config.lr\n",
    ")\n",
    "scheduler = StepLR(optimizer, step_size=2, gamma=0.95)"
   ]
  },
  {
   "cell_type": "code",
   "execution_count": 21,
   "id": "d8e80f0a",
   "metadata": {
    "execution": {
     "iopub.execute_input": "2022-07-23T01:14:57.286141Z",
     "iopub.status.busy": "2022-07-23T01:14:57.284802Z",
     "iopub.status.idle": "2022-07-23T01:14:57.295515Z",
     "shell.execute_reply": "2022-07-23T01:14:57.294673Z"
    },
    "papermill": {
     "duration": 0.024249,
     "end_time": "2022-07-23T01:14:57.297613",
     "exception": false,
     "start_time": "2022-07-23T01:14:57.273364",
     "status": "completed"
    },
    "tags": []
   },
   "outputs": [],
   "source": [
    "import copy\n",
    "to_tensor = transforms.ToTensor()\n",
    "to_image = transforms.ToPILImage()\n",
    "def val(model, loss_fn, val_dataloader, device):\n",
    "    model.eval()\n",
    "    val_loss = []\n",
    "    with torch.no_grad():\n",
    "        for x in val_dataloader:\n",
    "            mask_pred = model(x[\"image\"].to(device))\n",
    "            loss = loss_fn(\n",
    "                mask_pred, \n",
    "                x[\"mask\"].to(device)\n",
    "            )\n",
    "            val_loss.append(loss.item())\n",
    "            \n",
    "    return sum(val_loss) / len(val_loss)"
   ]
  },
  {
   "cell_type": "code",
   "execution_count": null,
   "id": "a0569c54",
   "metadata": {
    "papermill": {
     "duration": 0.009881,
     "end_time": "2022-07-23T01:14:57.317307",
     "exception": false,
     "start_time": "2022-07-23T01:14:57.307426",
     "status": "completed"
    },
    "tags": []
   },
   "outputs": [],
   "source": []
  },
  {
   "cell_type": "code",
   "execution_count": 22,
   "id": "da472f14",
   "metadata": {
    "execution": {
     "iopub.execute_input": "2022-07-23T01:14:57.339303Z",
     "iopub.status.busy": "2022-07-23T01:14:57.338466Z",
     "iopub.status.idle": "2022-07-23T01:14:57.346572Z",
     "shell.execute_reply": "2022-07-23T01:14:57.345713Z"
    },
    "papermill": {
     "duration": 0.021265,
     "end_time": "2022-07-23T01:14:57.348428",
     "exception": false,
     "start_time": "2022-07-23T01:14:57.327163",
     "status": "completed"
    },
    "tags": []
   },
   "outputs": [],
   "source": [
    "def train(model, optimizer, scheduler, loss_fn, train_dataloader, val_dataloader, epochs, device):\n",
    "    for epoch in range(epochs):\n",
    "        train_loss = []\n",
    "        model.train()\n",
    "        for step, x in enumerate(train_dataloader):\n",
    "            model.zero_grad()\n",
    "            mask_pred = model(x[\"image\"].to(device))\n",
    "\n",
    "            loss = loss_fn(\n",
    "                mask_pred,\n",
    "                x[\"mask\"].to(device)\n",
    "            )\n",
    "\n",
    "            loss.backward()\n",
    "            optimizer.step()\n",
    "            \n",
    "            train_loss.append(loss.item())\n",
    "            if (step + 1) % 50 == 0:\n",
    "                print(f\"Step {step} Train loss: {sum(train_loss) / len(train_loss)}\")\n",
    "\n",
    "        val_loss = val(model, loss_fn, val_dataloader, device)\n",
    "\n",
    "        print(f\"Train loss: {sum(train_loss) / len(train_loss)}\")\n",
    "        print(f\"Val loss: {val_loss}\")\n",
    "        torch.save(model, os.path.join(config.model_path, f\"model_{epoch}\"))\n",
    "        scheduler.step()"
   ]
  },
  {
   "cell_type": "code",
   "execution_count": 23,
   "id": "4e0a2745",
   "metadata": {
    "execution": {
     "iopub.execute_input": "2022-07-23T01:14:57.369791Z",
     "iopub.status.busy": "2022-07-23T01:14:57.368936Z",
     "iopub.status.idle": "2022-07-23T01:14:57.373189Z",
     "shell.execute_reply": "2022-07-23T01:14:57.372373Z"
    },
    "papermill": {
     "duration": 0.01668,
     "end_time": "2022-07-23T01:14:57.374960",
     "exception": false,
     "start_time": "2022-07-23T01:14:57.358280",
     "status": "completed"
    },
    "tags": []
   },
   "outputs": [
    {
     "name": "stdout",
     "output_type": "stream",
     "text": [
      "Train loss: 1.526438179769014\n",
      "Val loss: 2.2504742402656404\n",
      "Train loss: 1.1740183704777767\n",
      "Val loss: 1.6790410841212553\n",
      "Train loss: 1.0977361829657304\n",
      "Val loss: 1.7809732427784042\n",
      "Train loss: 1.067192083910892\n",
      "Val loss: 1.7888914720684874\n",
      "Train loss: 1.0449805887121904\n",
      "Val loss: 1.6726453538034476\n"
     ]
    }
   ],
   "source": [
    "train(model, optimizer, scheduler, final_loss, train_dataloader, val_dataloader, config.epoch, config.device)"
   ]
  },
  {
   "cell_type": "code",
   "execution_count": null,
   "id": "f75c4458",
   "metadata": {
    "papermill": {
     "duration": 0.009754,
     "end_time": "2022-07-23T01:14:57.394991",
     "exception": false,
     "start_time": "2022-07-23T01:14:57.385237",
     "status": "completed"
    },
    "tags": []
   },
   "outputs": [],
   "source": []
  },
  {
   "cell_type": "code",
   "execution_count": null,
   "id": "8fe75246",
   "metadata": {
    "papermill": {
     "duration": 0.010236,
     "end_time": "2022-07-23T01:14:57.415103",
     "exception": false,
     "start_time": "2022-07-23T01:14:57.404867",
     "status": "completed"
    },
    "tags": []
   },
   "outputs": [],
   "source": []
  },
  {
   "cell_type": "code",
   "execution_count": 25,
   "id": "5fa4c973",
   "metadata": {
    "execution": {
     "iopub.execute_input": "2022-07-23T01:14:57.436444Z",
     "iopub.status.busy": "2022-07-23T01:14:57.435982Z",
     "iopub.status.idle": "2022-07-23T01:15:02.134882Z",
     "shell.execute_reply": "2022-07-23T01:15:02.133897Z"
    },
    "papermill": {
     "duration": 4.712173,
     "end_time": "2022-07-23T01:15:02.137228",
     "exception": false,
     "start_time": "2022-07-23T01:14:57.425055",
     "status": "completed"
    },
    "tags": []
   },
   "outputs": [],
   "source": [
    "#model_inference = BaselineModel()\n",
    "#model_inference = model_inference.to(config.device)\n",
    "\n",
    "model = torch.load(\n",
    "    os.path.join(config.model_path, f\"model_{4}\")\n",
    ")\n",
    "model = model.to(config.device)"
   ]
  },
  {
   "cell_type": "code",
   "execution_count": null,
   "id": "d8bbe851",
   "metadata": {},
   "outputs": [],
   "source": []
  },
  {
   "cell_type": "code",
   "execution_count": 90,
   "id": "ce8332a5",
   "metadata": {},
   "outputs": [],
   "source": []
  },
  {
   "cell_type": "code",
   "execution_count": 103,
   "id": "fe22bd53",
   "metadata": {},
   "outputs": [
    {
     "data": {
      "image/png": "[encoded data removed]",
      "text/plain": [
       "<Figure size 432x288 with 1 Axes>"
      ]
     },
     "metadata": {
      "needs_background": "light"
     },
     "output_type": "display_data"
    }
   ],
   "source": [
    "model.eval()\n",
    "ids = []\n",
    "masks = []\n",
    "to_img = transforms.ToPILImage()\n",
    "to_tns = transforms.ToTensor()\n",
    "\n",
    "with torch.no_grad():\n",
    "    for x in val_dataloader:\n",
    "        image = x[\"image\"]\n",
    "        mask_pred = model(image.to(config.device)).to(\"cpu\")\n",
    "        mask_pred = mask_pred.view(mask_pred.shape[1:])\n",
    "        mask_pred = torch.permute(mask_pred, (1, 2, 0))\n",
    "        mask_pred = cv2.resize(mask_pred.numpy(), (int(x[\"img_height\"]), int(x[\"img_width\"])), interpolation = cv2.INTER_AREA)\n",
    "        mask_pred = to_tensor(mask_pred)\n",
    "        \n",
    "        mask_pred = (mask_pred >= 0.5).int()\n",
    "        #b = mask_pred\n",
    "        #b = torch.permute(b, (1, 2, 0))\n",
    "        #bb = plt.imshow(b)\n",
    "        #plt.show()\n",
    "\n",
    "        \n",
    "        ids.append(int(x[\"id\"]))\n",
    "        masks.append(mask2rle(mask_pred.view(mask_pred.shape[1:])))\n"
   ]
  },
  {
   "cell_type": "code",
   "execution_count": null,
   "id": "78c78278",
   "metadata": {},
   "outputs": [],
   "source": []
  },
  {
   "cell_type": "code",
   "execution_count": null,
   "id": "842eb08a",
   "metadata": {},
   "outputs": [],
   "source": []
  },
  {
   "cell_type": "code",
   "execution_count": null,
   "id": "f0750a9f",
   "metadata": {
    "execution": {
     "iopub.execute_input": "2022-07-23T01:15:09.650969Z",
     "iopub.status.busy": "2022-07-23T01:15:09.650224Z",
     "iopub.status.idle": "2022-07-23T01:15:09.662275Z",
     "shell.execute_reply": "2022-07-23T01:15:09.661473Z"
    },
    "papermill": {
     "duration": 0.026589,
     "end_time": "2022-07-23T01:15:09.665310",
     "exception": false,
     "start_time": "2022-07-23T01:15:09.638721",
     "status": "completed"
    },
    "tags": []
   },
   "outputs": [],
   "source": [
    "ids, masks"
   ]
  },
  {
   "cell_type": "code",
   "execution_count": null,
   "id": "e8b4fea0",
   "metadata": {
    "execution": {
     "iopub.execute_input": "2022-07-23T01:15:09.689401Z",
     "iopub.status.busy": "2022-07-23T01:15:09.688913Z",
     "iopub.status.idle": "2022-07-23T01:15:09.700111Z",
     "shell.execute_reply": "2022-07-23T01:15:09.699282Z"
    },
    "papermill": {
     "duration": 0.025784,
     "end_time": "2022-07-23T01:15:09.702046",
     "exception": false,
     "start_time": "2022-07-23T01:15:09.676262",
     "status": "completed"
    },
    "tags": []
   },
   "outputs": [],
   "source": [
    "df = pd.DataFrame({'id':ids,'rle':masks})\n",
    "df.to_csv('submission.csv',index=False)"
   ]
  },
  {
   "cell_type": "code",
   "execution_count": null,
   "id": "2310fa6e",
   "metadata": {
    "execution": {
     "iopub.execute_input": "2022-07-23T01:15:09.726155Z",
     "iopub.status.busy": "2022-07-23T01:15:09.725884Z",
     "iopub.status.idle": "2022-07-23T01:15:10.471553Z",
     "shell.execute_reply": "2022-07-23T01:15:10.470368Z"
    },
    "papermill": {
     "duration": 0.761049,
     "end_time": "2022-07-23T01:15:10.474169",
     "exception": false,
     "start_time": "2022-07-23T01:15:09.713120",
     "status": "completed"
    },
    "tags": []
   },
   "outputs": [],
   "source": [
    "! head submission.csv"
   ]
  },
  {
   "cell_type": "code",
   "execution_count": null,
   "id": "323df721",
   "metadata": {
    "papermill": {
     "duration": 0.012157,
     "end_time": "2022-07-23T01:15:10.498720",
     "exception": false,
     "start_time": "2022-07-23T01:15:10.486563",
     "status": "completed"
    },
    "tags": []
   },
   "outputs": [],
   "source": []
  },
  {
   "cell_type": "code",
   "execution_count": null,
   "id": "c91f37db",
   "metadata": {
    "papermill": {
     "duration": 0.01198,
     "end_time": "2022-07-23T01:15:10.523176",
     "exception": false,
     "start_time": "2022-07-23T01:15:10.511196",
     "status": "completed"
    },
    "tags": []
   },
   "outputs": [],
   "source": []
  },
  {
   "cell_type": "code",
   "execution_count": null,
   "id": "a70a84fc",
   "metadata": {
    "papermill": {
     "duration": 0.012583,
     "end_time": "2022-07-23T01:15:10.548029",
     "exception": false,
     "start_time": "2022-07-23T01:15:10.535446",
     "status": "completed"
    },
    "tags": []
   },
   "outputs": [],
   "source": []
  },
  {
   "cell_type": "code",
   "execution_count": null,
   "id": "23397427",
   "metadata": {
    "papermill": {
     "duration": 0.013192,
     "end_time": "2022-07-23T01:15:10.573570",
     "exception": false,
     "start_time": "2022-07-23T01:15:10.560378",
     "status": "completed"
    },
    "tags": []
   },
   "outputs": [],
   "source": []
  }
 ],
 "metadata": {
  "kernelspec": {
   "display_name": "Python 3 (ipykernel)",
   "language": "python",
   "name": "python3"
  },
  "language_info": {
   "codemirror_mode": {
    "name": "ipython",
    "version": 3
   },
   "file_extension": ".py",
   "mimetype": "text/x-python",
   "name": "python",
   "nbconvert_exporter": "python",
   "pygments_lexer": "ipython3",
   "version": "3.8.10"
  },
  "papermill": {
   "default_parameters": {},
   "duration": 44.415109,
   "end_time": "2022-07-23T01:15:13.065570",
   "environment_variables": {},
   "exception": null,
   "input_path": "__notebook__.ipynb",
   "output_path": "__notebook__.ipynb",
   "parameters": {},
   "start_time": "2022-07-23T01:14:28.650461",
   "version": "2.3.4"
  }
 },
 "nbformat": 4,
 "nbformat_minor": 5
}
